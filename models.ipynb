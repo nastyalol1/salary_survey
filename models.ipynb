{
 "cells": [
  {
   "cell_type": "markdown",
   "id": "33a0cdd7-745e-47ef-a6d2-b43fed2fae70",
   "metadata": {},
   "source": [
    "# Оглавление\n",
    "\n",
    "* [1. Добавление признаков](#chapter1)\n",
    "  \n",
    "* [2. Построение гипотез](#chapter2)\n",
    "  \n",
    "* [3. Построение модели](#chapter3)\n",
    "  \n",
    "* [4. Выводы](#chapter4)"
   ]
  },
  {
   "cell_type": "code",
   "execution_count": 1,
   "id": "4dba8db4-0ecf-4720-97bf-cde69e8d8824",
   "metadata": {},
   "outputs": [
    {
     "name": "stderr",
     "output_type": "stream",
     "text": [
      "ERROR: Could not find a version that satisfies the requirement pycountry_conver (from versions: none)\n",
      "ERROR: No matching distribution found for pycountry_conver\n",
      "\n",
      "[notice] A new release of pip is available: 23.2.1 -> 24.0\n",
      "[notice] To update, run: python.exe -m pip install --upgrade pip\n"
     ]
    }
   ],
   "source": [
    "# Устанавливаем необходимые библиотеки\n",
    "!pip install -q pandas scipy pycountry_conver"
   ]
  },
  {
   "cell_type": "code",
   "execution_count": 2,
   "id": "8d4e3c31-fa50-4d35-880a-a5ad5a5d8329",
   "metadata": {},
   "outputs": [],
   "source": [
    "import pandas as pd\n",
    "import numpy as np\n",
    "\n",
    "import scipy.stats as stats\n",
    "\n",
    "from sklearn.model_selection import train_test_split, KFold, GridSearchCV\n",
    "from sklearn.linear_model import LinearRegression, Ridge, Lasso\n",
    "from sklearn.tree import DecisionTreeRegressor\n",
    "from sklearn.ensemble import RandomForestRegressor, GradientBoostingRegressor\n",
    "from sklearn.preprocessing import StandardScaler, OneHotEncoder\n",
    "from sklearn.compose import ColumnTransformer\n",
    "from sklearn.pipeline import Pipeline\n",
    "from sklearn.metrics import mean_squared_error\n",
    "\n",
    "import pycountry_convert as pc"
   ]
  },
  {
   "cell_type": "code",
   "execution_count": 3,
   "id": "0c9ef6d8-9bfe-4fda-ad6b-fc1b3607e9d8",
   "metadata": {},
   "outputs": [],
   "source": [
    "import warnings\n",
    "\n",
    "warnings.filterwarnings('ignore')"
   ]
  },
  {
   "cell_type": "code",
   "execution_count": 4,
   "id": "90b1d6c6-13c1-41e0-8afa-18930c3fed98",
   "metadata": {},
   "outputs": [],
   "source": [
    "file_path = 'dataset/ds_salaries_cleared.csv'"
   ]
  },
  {
   "cell_type": "code",
   "execution_count": 5,
   "id": "2d82865a-6265-4fe4-b0c1-39205d66d68f",
   "metadata": {},
   "outputs": [],
   "source": [
    "df = pd.read_csv(file_path)"
   ]
  },
  {
   "cell_type": "markdown",
   "id": "13d55c23-fb8d-4acf-b5ce-91ded7291df9",
   "metadata": {},
   "source": [
    "# 1. Добавление признаков <a class=\"anchor\" id=\"chapter1\"></a>"
   ]
  },
  {
   "cell_type": "code",
   "execution_count": 6,
   "id": "8a2b08be-d4d2-49fa-9366-658dc5f8e59d",
   "metadata": {},
   "outputs": [],
   "source": [
    "def get_continent(country_code):\n",
    "    try:\n",
    "        continent_code = pc.country_alpha2_to_continent_code(country_code)\n",
    "        continent_name = pc.convert_continent_code_to_continent_name(continent_code)\n",
    "        return continent_name\n",
    "    except KeyError:\n",
    "        return 'Unknown'"
   ]
  },
  {
   "cell_type": "code",
   "execution_count": 7,
   "id": "b93e5ed5-f348-4ab7-90fa-5d5cdfa0de5e",
   "metadata": {},
   "outputs": [],
   "source": [
    "# Создание нового признака 'salary_bracket'\n",
    "df['salary_bracket'] = pd.cut(df['salary_in_usd'], bins=[0, 70000, 180000, float('inf')], labels=['low', 'medium', 'high'])\n",
    "\n",
    "# Преобразование типа занятости в категории\n",
    "df['job_type'] = df['employment_type'].map(lambda x: 'full_time' if x == 'FT' else 'part_time' if x == 'PT' else 'contract' if x == 'C' else 'freelance')\n",
    "\n",
    "# Преобразование стран в регионы\n",
    "df['region'] = df['company_location'].apply(get_continent)\n",
    "\n",
    "# Создание бинарного признака удалённой работы\n",
    "df['is_remote'] = df['remote_ratio'].apply(lambda x: 1 if x > 0 else 0)\n",
    "\n",
    "# Добавление больше признаков\n",
    "df['experience_years'] = 2024 - df['work_year']"
   ]
  },
  {
   "cell_type": "code",
   "execution_count": 8,
   "id": "98f18dd1-14b6-4411-bab0-8f53e982da5e",
   "metadata": {},
   "outputs": [
    {
     "data": {
      "text/plain": [
       "North America    2024\n",
       "Europe            402\n",
       "Asia               94\n",
       "South America      24\n",
       "Oceania            18\n",
       "Africa             14\n",
       "Name: region, dtype: int64"
      ]
     },
     "execution_count": 8,
     "metadata": {},
     "output_type": "execute_result"
    }
   ],
   "source": [
    "df['region'].value_counts()"
   ]
  },
  {
   "cell_type": "markdown",
   "id": "772c1955-4194-4493-a162-d8af809785e0",
   "metadata": {},
   "source": [
    "# 2. Гипотезы <a class=\"anchor\" id=\"chapter2\"></a>"
   ]
  },
  {
   "cell_type": "markdown",
   "id": "569ff3ac-f865-4eda-b99b-11d5e7e465f8",
   "metadata": {},
   "source": [
    "Выдвинуты следуюие гипотезы:\n",
    "\n",
    "* Гипотеза 1: Средняя зарплата сотрудников, работающих удаленно, отличается от средней зарплаты сотрудников, работающих в офисе\n",
    "\n",
    "* Гипотеза 2: Средняя зарплата сотрудников в Северной Америке отличается от средней зарплаты сотрудников в других регионах\n",
    "\n",
    "* Гипотеза 3: Средняя зарплата сотрудников с полной занятостью (FT) отличается от средней зарплаты сотрудников с другими типами занятости (PT, C, FL)"
   ]
  },
  {
   "cell_type": "code",
   "execution_count": 9,
   "id": "d2396dc4-3427-4060-b819-f967b4a9183c",
   "metadata": {},
   "outputs": [
    {
     "name": "stdout",
     "output_type": "stream",
     "text": [
      "t-статистика: -7.474501770973419, p-значение: 1.056070355362127e-13\n"
     ]
    }
   ],
   "source": [
    "# Гипотеза 1: Влияние удаленной работы на уровень зарплаты\n",
    "remote_salary = df[df['is_remote'] == 1]['salary_in_usd']\n",
    "office_salary = df[df['is_remote'] == 0]['salary_in_usd']\n",
    "t_stat, p_val = stats.ttest_ind(remote_salary, office_salary)\n",
    "print(f\"t-статистика: {t_stat}, p-значение: {p_val}\")"
   ]
  },
  {
   "cell_type": "markdown",
   "id": "09ffc61b-db4e-4dd6-8318-5873bccfd48c",
   "metadata": {},
   "source": [
    "Поскольку p-значение значительно меньше 0.05, мы отвергаем нулевую гипотезу. \n",
    "\n",
    "Это означает, что существует статистически значимое различие в уровнях зарплаты между сотрудниками, работающими удаленно, и сотрудниками, работающими в офисе. \n",
    "\n",
    "Отрицательная t-статистика указывает на то, что средняя зарплата у сотрудников, работающих в офисе, выше, чем у сотрудников, работающих удаленно."
   ]
  },
  {
   "cell_type": "code",
   "execution_count": 10,
   "id": "b68d88cb-c23c-49a2-a619-bf6a4320d716",
   "metadata": {},
   "outputs": [
    {
     "name": "stdout",
     "output_type": "stream",
     "text": [
      "t-статистика: 31.028509133291664, p-значение: 7.501739986581016e-180\n"
     ]
    }
   ],
   "source": [
    "# Гипотеза 2: Влияние региона на уровень зарплаты\n",
    "north_america_salary = df[df['region'] == 'North America']['salary_in_usd']\n",
    "other_regions_salary = df[df['region'] != 'North America']['salary_in_usd']\n",
    "t_stat, p_val = stats.ttest_ind(north_america_salary, other_regions_salary)\n",
    "print(f\"t-статистика: {t_stat}, p-значение: {p_val}\")"
   ]
  },
  {
   "cell_type": "markdown",
   "id": "2c8b06f9-c96d-49fd-b5ca-19cd30e72e32",
   "metadata": {},
   "source": [
    "Поскольку p-значение значительно меньше 0.05, мы отвергаем нулевую гипотезу. \n",
    "\n",
    "Это означает, что существует статистически значимое различие в уровнях зарплаты между сотрудниками в Северной Америке и сотрудниками в других регионах. \n",
    "\n",
    "Положительная t-статистика указывает на то, что средняя зарплата в Северной Америке выше, чем в других регионах."
   ]
  },
  {
   "cell_type": "code",
   "execution_count": 11,
   "id": "02a1c9cc-5235-4fab-8ff7-2db58c7d993e",
   "metadata": {},
   "outputs": [
    {
     "name": "stdout",
     "output_type": "stream",
     "text": [
      "F-статистика: 43.22171352104709, p-значение: 5.896539760425233e-11\n"
     ]
    }
   ],
   "source": [
    "# Гипотеза 3: Влияние типа занятости на уровень зарплаты\n",
    "ft_salary = df[df['employment_type'] == 'FT']['salary_in_usd']\n",
    "ot_salary = df[df['employment_type'] != 'FT']['salary_in_usd']\n",
    "f_stat, p_val = stats.f_oneway(ft_salary, ot_salary)\n",
    "print(f\"F-статистика: {f_stat}, p-значение: {p_val}\")"
   ]
  },
  {
   "cell_type": "markdown",
   "id": "3c195fae-149f-47e5-95dd-fcc071efa2b3",
   "metadata": {},
   "source": [
    "Поскольку p-значение значительно меньше 0.05, мы отвергаем нулевую гипотезу. \n",
    "\n",
    "Это означает, что существует статистически значимое различие в уровнях зарплаты между сотрудниками с полной занятостью (FT) и другими типами занятости (PT, C, FL). \n",
    "\n",
    "F-статистика указывает на значительное различие в зарплатах между этими группами."
   ]
  },
  {
   "cell_type": "markdown",
   "id": "6bdf4310-471f-4381-a64b-d24c419f9214",
   "metadata": {},
   "source": [
    "Все три гипотезы подтвердились, что указывает на наличие значимых различий в зарплатах, обусловленных режимом работы (удаленно или в офисе), регионом и типом занятости."
   ]
  },
  {
   "cell_type": "markdown",
   "id": "e1093826-25c5-47e7-bdee-8110f0d08094",
   "metadata": {},
   "source": [
    "# 3. Машинное обучение <a class=\"anchor\" id=\"chapter3\"></a>"
   ]
  },
  {
   "cell_type": "markdown",
   "id": "bc474fef-92b4-427d-acd2-57303218128a",
   "metadata": {},
   "source": [
    "Предскажем зарплату сотрудников - поле **salary_in_usd**"
   ]
  },
  {
   "cell_type": "code",
   "execution_count": 12,
   "id": "92b53b7d-b5cc-4c6b-9a2d-2e5fb7924046",
   "metadata": {},
   "outputs": [],
   "source": [
    "# Копирование данных и удаление ненужных столбцов\n",
    "salary_data_copy = df.copy()\n",
    "salary_data_copy = salary_data_copy.drop(['job_title', 'employee_residence', 'salary_currency', 'region'], axis=1)\n",
    "\n",
    "# Преобразование категориальных признаков в числовые\n",
    "salary_data_copy = pd.get_dummies(salary_data_copy, dtype='int')"
   ]
  },
  {
   "cell_type": "code",
   "execution_count": 13,
   "id": "6744ffbc-c5af-4a2a-8f13-3fca975ecbf5",
   "metadata": {},
   "outputs": [],
   "source": [
    "# Разделение данных на обучающую и тестовую выборку\n",
    "X = salary_data_copy.drop('salary_in_usd', axis=1)\n",
    "y = salary_data_copy['salary_in_usd']\n",
    "x_train, x_test, y_train, y_test = train_test_split(X, y, test_size=0.2, random_state=33)"
   ]
  },
  {
   "cell_type": "code",
   "execution_count": 14,
   "id": "ca10513f-c8c6-4900-a110-2e485f655db1",
   "metadata": {},
   "outputs": [],
   "source": [
    "# Применение кросс-валидации\n",
    "kf = KFold(n_splits=5, shuffle=True, random_state=10)\n",
    "models = []\n",
    "\n",
    "# Обучение на всех фолдах\n",
    "for train_index, test_index in kf.split(x_train):\n",
    "    X_train_fold, X_test_fold = x_train.iloc[train_index], x_train.iloc[test_index]\n",
    "    y_train_fold, y_test_fold = y_train.iloc[train_index], y_train.iloc[test_index]\n",
    "    \n",
    "    model = LinearRegression()\n",
    "    model.fit(X_train_fold, y_train_fold)\n",
    "    models.append(model)\n",
    "\n",
    "# Получение предсказаний от каждой модели и их объединение\n",
    "predictions = [model.predict(x_test) for model in models]\n",
    "combined_predictions = np.vstack(predictions).T\n",
    "\n",
    "# Разделение объединенных предсказаний и целевой переменной на обучающие и тестовые наборы для мета-модели\n",
    "X_train_5, X_test_5, y_train_5, y_test_5 = train_test_split(combined_predictions, y_test, test_size=0.2, random_state=42)"
   ]
  },
  {
   "cell_type": "code",
   "execution_count": 15,
   "id": "b7ed09af-e464-41d3-8e4f-0d190d7bd925",
   "metadata": {},
   "outputs": [
    {
     "name": "stdout",
     "output_type": "stream",
     "text": [
      "RMSE мета-модели:  26442.490421748593\n"
     ]
    }
   ],
   "source": [
    "# Обучение мета-модели (Linear Regression)\n",
    "meta_model = LinearRegression()\n",
    "meta_model.fit(X_train_5, y_train_5)\n",
    "\n",
    "# Оценка мета-модели\n",
    "y_pred_meta = meta_model.predict(X_test_5)\n",
    "meta_model_score = mean_squared_error(y_test_5, y_pred_meta, squared=False)\n",
    "print('RMSE мета-модели: ', meta_model_score)"
   ]
  },
  {
   "cell_type": "code",
   "execution_count": 16,
   "id": "8868b048-ba85-44e4-acc8-b88acf5baf01",
   "metadata": {},
   "outputs": [],
   "source": [
    "# Гиперпараметры для подбора\n",
    "param_grids = {\n",
    "    'Ridge Regression': {\n",
    "        'alpha': [0.01, 0.1, 1, 10, 100]\n",
    "    },\n",
    "    'Lasso Regression': {\n",
    "        'alpha': [0.01, 0.1, 1, 10, 100]\n",
    "    },\n",
    "    'Decision Tree': {\n",
    "        'max_depth': [None, 10, 20, 30, 40, 50],\n",
    "        'min_samples_split': [2, 5, 10]\n",
    "    },\n",
    "    'Random Forest': {\n",
    "        'n_estimators': [100, 200, 300],\n",
    "        'max_depth': [None, 10, 20, 30],\n",
    "        'min_samples_split': [2, 5, 10]\n",
    "    },\n",
    "    'Gradient Boosting': {\n",
    "        'n_estimators': [100, 200, 300],\n",
    "        'learning_rate': [0.01, 0.1, 0.2],\n",
    "        'max_depth': [3, 4, 5]\n",
    "    }\n",
    "}"
   ]
  },
  {
   "cell_type": "code",
   "execution_count": 17,
   "id": "0bb4af0c-f58c-48a3-8516-eb7bfffd635a",
   "metadata": {},
   "outputs": [],
   "source": [
    "# Обучение дополнительных моделей с подбором гиперпараметров\n",
    "additional_models = {\n",
    "    'Ridge Regression': Ridge(),\n",
    "    'Lasso Regression': Lasso(),\n",
    "    'Decision Tree': DecisionTreeRegressor(random_state=42),\n",
    "    'Random Forest': RandomForestRegressor(random_state=42),\n",
    "    'Gradient Boosting': GradientBoostingRegressor(random_state=42)\n",
    "}"
   ]
  },
  {
   "cell_type": "code",
   "execution_count": 18,
   "id": "0a2d557a-57c7-418d-ace2-84cb5689e87a",
   "metadata": {},
   "outputs": [
    {
     "name": "stdout",
     "output_type": "stream",
     "text": [
      "CPU times: total: 797 ms\n",
      "Wall time: 22.6 s\n"
     ]
    }
   ],
   "source": [
    "%%time\n",
    "results = []\n",
    "\n",
    "for model_name, model in additional_models.items():\n",
    "    grid_search = GridSearchCV(model, param_grids[model_name], cv=5, scoring='neg_mean_squared_error', n_jobs=-1)\n",
    "    grid_search.fit(x_train, y_train)\n",
    "    best_model = grid_search.best_estimator_\n",
    "    y_pred = best_model.predict(x_test)\n",
    "    rmse = mean_squared_error(y_test, y_pred, squared=False)\n",
    "    \n",
    "    results.append({\n",
    "        'Model': model_name,\n",
    "        'Best Parameters': grid_search.best_params_,\n",
    "        'RMSE': rmse\n",
    "    })"
   ]
  },
  {
   "cell_type": "code",
   "execution_count": 19,
   "id": "09aaed88-faa0-4ac8-a4b0-786419ac9b4d",
   "metadata": {},
   "outputs": [
    {
     "data": {
      "text/html": [
       "<div>\n",
       "<style scoped>\n",
       "    .dataframe tbody tr th:only-of-type {\n",
       "        vertical-align: middle;\n",
       "    }\n",
       "\n",
       "    .dataframe tbody tr th {\n",
       "        vertical-align: top;\n",
       "    }\n",
       "\n",
       "    .dataframe thead th {\n",
       "        text-align: right;\n",
       "    }\n",
       "</style>\n",
       "<table border=\"1\" class=\"dataframe\">\n",
       "  <thead>\n",
       "    <tr style=\"text-align: right;\">\n",
       "      <th></th>\n",
       "      <th>Model</th>\n",
       "      <th>Best Parameters</th>\n",
       "      <th>RMSE</th>\n",
       "    </tr>\n",
       "  </thead>\n",
       "  <tbody>\n",
       "    <tr>\n",
       "      <th>0</th>\n",
       "      <td>Ridge Regression</td>\n",
       "      <td>{'alpha': 10}</td>\n",
       "      <td>29890.076433</td>\n",
       "    </tr>\n",
       "    <tr>\n",
       "      <th>1</th>\n",
       "      <td>Lasso Regression</td>\n",
       "      <td>{'alpha': 100}</td>\n",
       "      <td>29780.334832</td>\n",
       "    </tr>\n",
       "    <tr>\n",
       "      <th>2</th>\n",
       "      <td>Decision Tree</td>\n",
       "      <td>{'max_depth': 20, 'min_samples_split': 5}</td>\n",
       "      <td>4828.493755</td>\n",
       "    </tr>\n",
       "    <tr>\n",
       "      <th>3</th>\n",
       "      <td>Random Forest</td>\n",
       "      <td>{'max_depth': 20, 'min_samples_split': 2, 'n_e...</td>\n",
       "      <td>3903.988744</td>\n",
       "    </tr>\n",
       "    <tr>\n",
       "      <th>4</th>\n",
       "      <td>Gradient Boosting</td>\n",
       "      <td>{'learning_rate': 0.1, 'max_depth': 5, 'n_esti...</td>\n",
       "      <td>3499.911469</td>\n",
       "    </tr>\n",
       "  </tbody>\n",
       "</table>\n",
       "</div>"
      ],
      "text/plain": [
       "               Model                                    Best Parameters  \\\n",
       "0   Ridge Regression                                      {'alpha': 10}   \n",
       "1   Lasso Regression                                     {'alpha': 100}   \n",
       "2      Decision Tree          {'max_depth': 20, 'min_samples_split': 5}   \n",
       "3      Random Forest  {'max_depth': 20, 'min_samples_split': 2, 'n_e...   \n",
       "4  Gradient Boosting  {'learning_rate': 0.1, 'max_depth': 5, 'n_esti...   \n",
       "\n",
       "           RMSE  \n",
       "0  29890.076433  \n",
       "1  29780.334832  \n",
       "2   4828.493755  \n",
       "3   3903.988744  \n",
       "4   3499.911469  "
      ]
     },
     "execution_count": 19,
     "metadata": {},
     "output_type": "execute_result"
    }
   ],
   "source": [
    "# Создание DataFrame с результатами\n",
    "results_df = pd.DataFrame(results)\n",
    "\n",
    "# Вывод таблицы результатов\n",
    "results_df"
   ]
  },
  {
   "cell_type": "markdown",
   "id": "c9495954-b3c2-46de-a72c-97e0e8ad698b",
   "metadata": {},
   "source": [
    "# 4. Выводы <a class=\"anchor\" id=\"chapter4\"></a>"
   ]
  },
  {
   "cell_type": "markdown",
   "id": "b707f5eb-84b9-4c0e-9c78-d9c84111528c",
   "metadata": {},
   "source": [
    "Результаты моделей\n",
    "\n",
    "Линейные модели (Ridge и Lasso) показывают RMSE около 30,000, что является средним результатом\n",
    "\n",
    "Деревья решений и ансамблевые модели (Decision Tree, Random Forest, Gradient Boosting) значительно снижают RMSE до 3,500-4,500, указывая на их превосходство в предсказании зарплат"
   ]
  },
  {
   "cell_type": "markdown",
   "id": "957a8e7d-7d5b-4d7f-a1c1-9f877ae7c0c4",
   "metadata": {},
   "source": [
    "Выводы по гипотезам\n",
    "\n",
    "Удаленная работа: Зарплаты сотрудников, работающих в офисе, значительно выше, чем у сотрудников, работающих удаленно\n",
    "\n",
    "Регион: Сотрудники в Северной Америке получают значительно больше, чем сотрудники в других регионах\n",
    "\n",
    "Тип занятости: Полная занятость (FT) приводит к значительно более высоким зарплатам по сравнению с другими типами занятости"
   ]
  },
  {
   "cell_type": "markdown",
   "id": "16b5267a-cee1-4115-9d33-8f4543b1d175",
   "metadata": {},
   "source": [
    "Общий вывод\n",
    "\n",
    "Модели на основе деревьев и ансамблей являются наиболее эффективными для предсказания зарплат\n",
    "\n",
    "Анализ гипотез подтвердил, что удаленная работа, регион и тип занятости существенно влияют на уровень зарплаты"
   ]
  },
  {
   "cell_type": "code",
   "execution_count": null,
   "id": "9850a52e-15ed-4c2e-946d-690f75b349b7",
   "metadata": {},
   "outputs": [],
   "source": []
  }
 ],
 "metadata": {
  "kernelspec": {
   "display_name": "ml-kernel",
   "language": "python",
   "name": "ml-kernel"
  },
  "language_info": {
   "codemirror_mode": {
    "name": "ipython",
    "version": 3
   },
   "file_extension": ".py",
   "mimetype": "text/x-python",
   "name": "python",
   "nbconvert_exporter": "python",
   "pygments_lexer": "ipython3",
   "version": "3.10.11"
  }
 },
 "nbformat": 4,
 "nbformat_minor": 5
}
